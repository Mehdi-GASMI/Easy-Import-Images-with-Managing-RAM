{
 "cells": [
  {
   "cell_type": "markdown",
   "execution_count": null,
   "metadata": {},
   "source": [
    "In this notebook I build a flexible function which reads and processes a large number of images by managing the RAM memory and by saving the result later uses.\n",
    "\n",
    "I use this function to train a LightGBM for that I applied an image pooling in 4x4 and flattened the result and then I summed the RGB colors, which gives me a dataframe of 65,536 columns + 1 columns of out put and 24,000 rows which corresponds to 24,000 images stored on 6 GB of RAM.\n",
    "\n",
    "This can be modified according to your needs. if you want to train classic models and not CNNs."
   ]
  },
  {
   "cell_type": "code",
   "execution_count": 1,
   "metadata": {
    "_cell_guid": "b1076dfc-b9ad-4769-8c92-a6c4dae69d19",
    "_uuid": "8f2839f25d086af736a60e9eeb907d3b93b6e0e5"
   },
   "outputs": [],
   "source": [
    "import numpy as np\n",
    "import pandas as pd\n",
    "import matplotlib.pyplot as plt\n",
    "import matplotlib.image as mpimg\n",
    "import tqdm\n",
    "from PIL import Image\n",
    "import glob\n",
    "import skimage.measure\n",
    "import gc"
   ]
  },
  {
   "cell_type": "code",
   "execution_count": 2,
   "metadata": {
    "_cell_guid": "79c7e3d0-c299-4dcb-8224-4455121ee9b0",
    "_uuid": "d629ff2d2480ee46fbb7e2d37f6b5fab8052498a"
   },
   "outputs": [],
   "source": [
    "# nbr_images : the quantity of images that we want to import\n",
    "\n",
    "# df : - If a DataFrame that contains images exists and we want to concatenate \n",
    "#        with the images that this function is going to import, we add it. \n",
    "#        the return of the function is the existing dataframe concatenated with the new.\n",
    "#      - If NaN the function creates a new DataFrame which contains the imported images.\n",
    "\n",
    "# file_name : The name of the file into which we want to import these images. Cover, JMiPOD, JUNIWARD or UERD.\n",
    "\n",
    "# from_ : From which image you can start importing. If 1000 entered, the function will start importing from the thousandth image.\n",
    "\n",
    "# status : It is a gadget, it takes 'neg' or 'pos', if 'neg' it adds an output column at the end of the DataFrame equal to 0,\n",
    "#          if pos it adds an output column equal to 1. it is to distinguish whether the image hides a message or not.\n",
    "\n",
    "\n",
    "\n",
    "def img_reader(nbr_images = 10, df = None, file_name = 'Cover', from_ = 0, status = 'neg') :\n",
    "    from_ = from_\n",
    "    nbr_images  = nbr_images\n",
    "    image_list = []\n",
    "    i=0\n",
    "    j=0\n",
    "    df = df\n",
    "    file_name = file_name\n",
    "    for filename in tqdm.tqdm(glob.glob('../input/alaska2-image-steganalysis/'+file_name+'/*.jpg')): \n",
    "        if j >= from_ :\n",
    "            im=mpimg.imread(filename)\n",
    "            im=skimage.measure.block_reduce(im, (2,2,1), np.max) # Drop this step to not apply the image pooling.\n",
    "            image_list.append(np.sum(im.reshape((d3, d1*d2)), axis = 0).tolist()) # d3 = 3, d1 and d2 = 256, without pooling this may be 3 * 512 * 512, np.sum() is for sum rgb. \n",
    "            i+=1\n",
    "            if i%1000 == 0 : # is for concat DataFrame by batch of 100 images.\n",
    "                if df is None:\n",
    "                    df = pd.DataFrame(image_list).astype('int16')\n",
    "                    del image_list\n",
    "                    gc.collect()\n",
    "                    image_list = []\n",
    "                else :\n",
    "                    df = pd.concat([df , pd.DataFrame(image_list).astype('int16')])\n",
    "                    del image_list\n",
    "                    gc.collect()\n",
    "                    image_list = []\n",
    "                    if i == nbr_images :    \n",
    "                        del image_list\n",
    "                        gc.collect()\n",
    "                        break\n",
    "        j=j+1\n",
    "        \n",
    "    if status == 'neg' :\n",
    "        df['output'] = 0\n",
    "        df['output'] = df['output'].astype('int16')\n",
    "        gc.collect()\n",
    "    else :\n",
    "        df['output'] = 1\n",
    "        df['output'] = df['output'].astype('int16')\n",
    "        gc.collect()\n",
    "        \n",
    "    return df"
   ]
  },
  {
   "cell_type": "code",
   "execution_count": 3,
   "metadata": {},
   "outputs": [
    {
     "data": {
      "text/plain": [
       "0"
      ]
     },
     "execution_count": 3,
     "metadata": {},
     "output_type": "execute_result"
    }
   ],
   "source": [
    "# Here i recover an image and I apply the pooling on it in order to recover the final dimensions d1, d2 and d3.\n",
    "\n",
    "img=mpimg.imread('../input/alaska2-image-steganalysis/Cover/00001.jpg')\n",
    "test_pool = skimage.measure.block_reduce(img, (2,2,1), np.max)\n",
    "d1, d2, d3 = test_pool.shape\n",
    "del test_pool\n",
    "gc.collect()"
   ]
  },
  {
   "cell_type": "code",
   "execution_count": 4,
   "metadata": {},
   "outputs": [
    {
     "name": "stderr",
     "output_type": "stream",
     "text": [
      " 16%|█▌        | 11999/75000 [20:06<1:45:33,  9.95it/s]\n"
     ]
    },
    {
     "name": "stdout",
     "output_type": "stream",
     "text": [
      "import Cover Done !\n"
     ]
    },
    {
     "name": "stderr",
     "output_type": "stream",
     "text": [
      "  5%|▌         | 3999/75000 [06:28<1:54:57, 10.29it/s]\n"
     ]
    },
    {
     "name": "stdout",
     "output_type": "stream",
     "text": [
      "JMiPOD Done!\n"
     ]
    },
    {
     "name": "stderr",
     "output_type": "stream",
     "text": [
      " 11%|█         | 7999/75000 [06:42<56:14, 19.86it/s]\n"
     ]
    },
    {
     "name": "stdout",
     "output_type": "stream",
     "text": [
      "JUNIWARD Done!\n"
     ]
    },
    {
     "name": "stderr",
     "output_type": "stream",
     "text": [
      " 16%|█▌        | 11999/75000 [06:37<34:46, 30.19it/s]"
     ]
    },
    {
     "name": "stdout",
     "output_type": "stream",
     "text": [
      "UERD Done!\n"
     ]
    },
    {
     "name": "stderr",
     "output_type": "stream",
     "text": [
      "\n"
     ]
    }
   ],
   "source": [
    "# I call this function 4 times:\n",
    "\n",
    "# the first to receive 12,000 images from image 1 of the folder Cover, label them 0 and store them in df_neg.\n",
    "\n",
    "df_neg = img_reader(nbr_images = 12000, df = None, file_name = 'Cover', from_ = 0, status = 'neg')\n",
    "print('import Cover Done !')\n",
    "\n",
    "# Thereafter i recover 4,000 images from JMiPOD starting with image number 1, then 4,000 from JUNIWARD starting from image number 4,000 and 4,000 from UERD starting from image number 8000.\n",
    "\n",
    "# At the end i have a dataframe 'df_pos' with 4000 images of JMiPOD followed by 4000 images of JUNIWARD followed by 4000 images of UERD which makes 12000 images in total labeled 1.\n",
    "\n",
    "df_pos = img_reader(nbr_images = 4000, df = None, file_name = 'JMiPOD', from_ = 0, status = 'pos')\n",
    "print('JMiPOD Done!')\n",
    "df_pos = img_reader(nbr_images = 4000, df = df_pos, file_name = 'JUNIWARD', from_ = 4000, status = 'pos')\n",
    "print('JUNIWARD Done!')\n",
    "df_pos = img_reader(nbr_images = 4000, df = df_pos, file_name = 'UERD', from_ = 8000, status = 'pos')\n",
    "print('UERD Done!')\n"
   ]
  },
  {
   "cell_type": "code",
   "execution_count": 5,
   "metadata": {},
   "outputs": [
    {
     "name": "stdout",
     "output_type": "stream",
     "text": [
      "df_neg info :\n",
      "<class 'pandas.core.frame.DataFrame'>\n",
      "Int64Index: 12000 entries, 0 to 999\n",
      "Columns: 65537 entries, 0 to output\n",
      "dtypes: int16(65537)\n",
      "memory usage: 1.5 GB\n"
     ]
    },
    {
     "data": {
      "text/plain": [
       "None"
      ]
     },
     "metadata": {},
     "output_type": "display_data"
    },
    {
     "name": "stdout",
     "output_type": "stream",
     "text": [
      "df_pos info :\n",
      "<class 'pandas.core.frame.DataFrame'>\n",
      "Int64Index: 12000 entries, 0 to 999\n",
      "Columns: 65537 entries, 0 to output\n",
      "dtypes: int16(65537)\n",
      "memory usage: 1.5 GB\n"
     ]
    },
    {
     "data": {
      "text/plain": [
       "None"
      ]
     },
     "metadata": {},
     "output_type": "display_data"
    }
   ],
   "source": [
    "print('df_neg info :')\n",
    "display(df_neg.info())\n",
    "\n",
    "print('df_pos info :')\n",
    "display(df_pos.info())"
   ]
  },
  {
   "cell_type": "markdown",
   "execution_count": null,
   "metadata": {},
   "source": [
    "1.5 GB each, No Break =)"
   ]
  },
  {
   "cell_type": "code",
   "execution_count": 6,
   "metadata": {},
   "outputs": [
    {
     "name": "stdout",
     "output_type": "stream",
     "text": [
      "df_neg head :\n"
     ]
    },
    {
     "data": {
      "text/html": [
       "<div>\n",
       "<style scoped>\n",
       "    .dataframe tbody tr th:only-of-type {\n",
       "        vertical-align: middle;\n",
       "    }\n",
       "\n",
       "    .dataframe tbody tr th {\n",
       "        vertical-align: top;\n",
       "    }\n",
       "\n",
       "    .dataframe thead th {\n",
       "        text-align: right;\n",
       "    }\n",
       "</style>\n",
       "<table border=\"1\" class=\"dataframe\">\n",
       "  <thead>\n",
       "    <tr style=\"text-align: right;\">\n",
       "      <th></th>\n",
       "      <th>0</th>\n",
       "      <th>1</th>\n",
       "      <th>2</th>\n",
       "      <th>3</th>\n",
       "      <th>4</th>\n",
       "      <th>5</th>\n",
       "      <th>6</th>\n",
       "      <th>7</th>\n",
       "      <th>8</th>\n",
       "      <th>9</th>\n",
       "      <th>...</th>\n",
       "      <th>65527</th>\n",
       "      <th>65528</th>\n",
       "      <th>65529</th>\n",
       "      <th>65530</th>\n",
       "      <th>65531</th>\n",
       "      <th>65532</th>\n",
       "      <th>65533</th>\n",
       "      <th>65534</th>\n",
       "      <th>65535</th>\n",
       "      <th>output</th>\n",
       "    </tr>\n",
       "  </thead>\n",
       "  <tbody>\n",
       "    <tr>\n",
       "      <th>0</th>\n",
       "      <td>164</td>\n",
       "      <td>142</td>\n",
       "      <td>129</td>\n",
       "      <td>170</td>\n",
       "      <td>135</td>\n",
       "      <td>132</td>\n",
       "      <td>172</td>\n",
       "      <td>129</td>\n",
       "      <td>140</td>\n",
       "      <td>190</td>\n",
       "      <td>...</td>\n",
       "      <td>157</td>\n",
       "      <td>143</td>\n",
       "      <td>134</td>\n",
       "      <td>152</td>\n",
       "      <td>140</td>\n",
       "      <td>141</td>\n",
       "      <td>142</td>\n",
       "      <td>134</td>\n",
       "      <td>151</td>\n",
       "      <td>0</td>\n",
       "    </tr>\n",
       "    <tr>\n",
       "      <th>1</th>\n",
       "      <td>305</td>\n",
       "      <td>309</td>\n",
       "      <td>315</td>\n",
       "      <td>284</td>\n",
       "      <td>282</td>\n",
       "      <td>291</td>\n",
       "      <td>277</td>\n",
       "      <td>287</td>\n",
       "      <td>300</td>\n",
       "      <td>282</td>\n",
       "      <td>...</td>\n",
       "      <td>238</td>\n",
       "      <td>241</td>\n",
       "      <td>257</td>\n",
       "      <td>245</td>\n",
       "      <td>249</td>\n",
       "      <td>278</td>\n",
       "      <td>255</td>\n",
       "      <td>252</td>\n",
       "      <td>283</td>\n",
       "      <td>0</td>\n",
       "    </tr>\n",
       "    <tr>\n",
       "      <th>2</th>\n",
       "      <td>340</td>\n",
       "      <td>431</td>\n",
       "      <td>379</td>\n",
       "      <td>378</td>\n",
       "      <td>417</td>\n",
       "      <td>348</td>\n",
       "      <td>381</td>\n",
       "      <td>418</td>\n",
       "      <td>365</td>\n",
       "      <td>332</td>\n",
       "      <td>...</td>\n",
       "      <td>291</td>\n",
       "      <td>332</td>\n",
       "      <td>297</td>\n",
       "      <td>311</td>\n",
       "      <td>329</td>\n",
       "      <td>290</td>\n",
       "      <td>294</td>\n",
       "      <td>356</td>\n",
       "      <td>316</td>\n",
       "      <td>0</td>\n",
       "    </tr>\n",
       "    <tr>\n",
       "      <th>3</th>\n",
       "      <td>546</td>\n",
       "      <td>561</td>\n",
       "      <td>560</td>\n",
       "      <td>558</td>\n",
       "      <td>583</td>\n",
       "      <td>589</td>\n",
       "      <td>589</td>\n",
       "      <td>601</td>\n",
       "      <td>616</td>\n",
       "      <td>616</td>\n",
       "      <td>...</td>\n",
       "      <td>379</td>\n",
       "      <td>432</td>\n",
       "      <td>419</td>\n",
       "      <td>423</td>\n",
       "      <td>417</td>\n",
       "      <td>413</td>\n",
       "      <td>433</td>\n",
       "      <td>404</td>\n",
       "      <td>393</td>\n",
       "      <td>0</td>\n",
       "    </tr>\n",
       "    <tr>\n",
       "      <th>4</th>\n",
       "      <td>432</td>\n",
       "      <td>585</td>\n",
       "      <td>522</td>\n",
       "      <td>482</td>\n",
       "      <td>604</td>\n",
       "      <td>537</td>\n",
       "      <td>476</td>\n",
       "      <td>586</td>\n",
       "      <td>521</td>\n",
       "      <td>440</td>\n",
       "      <td>...</td>\n",
       "      <td>394</td>\n",
       "      <td>469</td>\n",
       "      <td>384</td>\n",
       "      <td>447</td>\n",
       "      <td>485</td>\n",
       "      <td>393</td>\n",
       "      <td>469</td>\n",
       "      <td>484</td>\n",
       "      <td>379</td>\n",
       "      <td>0</td>\n",
       "    </tr>\n",
       "  </tbody>\n",
       "</table>\n",
       "<p>5 rows × 65537 columns</p>\n",
       "</div>"
      ],
      "text/plain": [
       "     0    1    2    3    4    5    6    7    8    9  ...  65527  65528  65529  \\\n",
       "0  164  142  129  170  135  132  172  129  140  190  ...    157    143    134   \n",
       "1  305  309  315  284  282  291  277  287  300  282  ...    238    241    257   \n",
       "2  340  431  379  378  417  348  381  418  365  332  ...    291    332    297   \n",
       "3  546  561  560  558  583  589  589  601  616  616  ...    379    432    419   \n",
       "4  432  585  522  482  604  537  476  586  521  440  ...    394    469    384   \n",
       "\n",
       "   65530  65531  65532  65533  65534  65535  output  \n",
       "0    152    140    141    142    134    151       0  \n",
       "1    245    249    278    255    252    283       0  \n",
       "2    311    329    290    294    356    316       0  \n",
       "3    423    417    413    433    404    393       0  \n",
       "4    447    485    393    469    484    379       0  \n",
       "\n",
       "[5 rows x 65537 columns]"
      ]
     },
     "metadata": {},
     "output_type": "display_data"
    },
    {
     "name": "stdout",
     "output_type": "stream",
     "text": [
      "df_pos head :\n"
     ]
    },
    {
     "data": {
      "text/html": [
       "<div>\n",
       "<style scoped>\n",
       "    .dataframe tbody tr th:only-of-type {\n",
       "        vertical-align: middle;\n",
       "    }\n",
       "\n",
       "    .dataframe tbody tr th {\n",
       "        vertical-align: top;\n",
       "    }\n",
       "\n",
       "    .dataframe thead th {\n",
       "        text-align: right;\n",
       "    }\n",
       "</style>\n",
       "<table border=\"1\" class=\"dataframe\">\n",
       "  <thead>\n",
       "    <tr style=\"text-align: right;\">\n",
       "      <th></th>\n",
       "      <th>0</th>\n",
       "      <th>1</th>\n",
       "      <th>2</th>\n",
       "      <th>3</th>\n",
       "      <th>4</th>\n",
       "      <th>5</th>\n",
       "      <th>6</th>\n",
       "      <th>7</th>\n",
       "      <th>8</th>\n",
       "      <th>9</th>\n",
       "      <th>...</th>\n",
       "      <th>65527</th>\n",
       "      <th>65528</th>\n",
       "      <th>65529</th>\n",
       "      <th>65530</th>\n",
       "      <th>65531</th>\n",
       "      <th>65532</th>\n",
       "      <th>65533</th>\n",
       "      <th>65534</th>\n",
       "      <th>65535</th>\n",
       "      <th>output</th>\n",
       "    </tr>\n",
       "  </thead>\n",
       "  <tbody>\n",
       "    <tr>\n",
       "      <th>0</th>\n",
       "      <td>164</td>\n",
       "      <td>142</td>\n",
       "      <td>129</td>\n",
       "      <td>170</td>\n",
       "      <td>134</td>\n",
       "      <td>131</td>\n",
       "      <td>171</td>\n",
       "      <td>129</td>\n",
       "      <td>140</td>\n",
       "      <td>189</td>\n",
       "      <td>...</td>\n",
       "      <td>160</td>\n",
       "      <td>146</td>\n",
       "      <td>134</td>\n",
       "      <td>153</td>\n",
       "      <td>140</td>\n",
       "      <td>141</td>\n",
       "      <td>142</td>\n",
       "      <td>134</td>\n",
       "      <td>151</td>\n",
       "      <td>1</td>\n",
       "    </tr>\n",
       "    <tr>\n",
       "      <th>1</th>\n",
       "      <td>305</td>\n",
       "      <td>309</td>\n",
       "      <td>315</td>\n",
       "      <td>284</td>\n",
       "      <td>282</td>\n",
       "      <td>291</td>\n",
       "      <td>277</td>\n",
       "      <td>287</td>\n",
       "      <td>300</td>\n",
       "      <td>283</td>\n",
       "      <td>...</td>\n",
       "      <td>238</td>\n",
       "      <td>241</td>\n",
       "      <td>257</td>\n",
       "      <td>245</td>\n",
       "      <td>249</td>\n",
       "      <td>278</td>\n",
       "      <td>255</td>\n",
       "      <td>252</td>\n",
       "      <td>283</td>\n",
       "      <td>1</td>\n",
       "    </tr>\n",
       "    <tr>\n",
       "      <th>2</th>\n",
       "      <td>340</td>\n",
       "      <td>427</td>\n",
       "      <td>375</td>\n",
       "      <td>375</td>\n",
       "      <td>409</td>\n",
       "      <td>341</td>\n",
       "      <td>369</td>\n",
       "      <td>423</td>\n",
       "      <td>369</td>\n",
       "      <td>338</td>\n",
       "      <td>...</td>\n",
       "      <td>285</td>\n",
       "      <td>329</td>\n",
       "      <td>294</td>\n",
       "      <td>308</td>\n",
       "      <td>330</td>\n",
       "      <td>291</td>\n",
       "      <td>295</td>\n",
       "      <td>358</td>\n",
       "      <td>318</td>\n",
       "      <td>1</td>\n",
       "    </tr>\n",
       "    <tr>\n",
       "      <th>3</th>\n",
       "      <td>535</td>\n",
       "      <td>556</td>\n",
       "      <td>555</td>\n",
       "      <td>553</td>\n",
       "      <td>589</td>\n",
       "      <td>595</td>\n",
       "      <td>595</td>\n",
       "      <td>601</td>\n",
       "      <td>617</td>\n",
       "      <td>617</td>\n",
       "      <td>...</td>\n",
       "      <td>387</td>\n",
       "      <td>435</td>\n",
       "      <td>422</td>\n",
       "      <td>420</td>\n",
       "      <td>418</td>\n",
       "      <td>415</td>\n",
       "      <td>444</td>\n",
       "      <td>399</td>\n",
       "      <td>387</td>\n",
       "      <td>1</td>\n",
       "    </tr>\n",
       "    <tr>\n",
       "      <th>4</th>\n",
       "      <td>435</td>\n",
       "      <td>590</td>\n",
       "      <td>527</td>\n",
       "      <td>487</td>\n",
       "      <td>623</td>\n",
       "      <td>556</td>\n",
       "      <td>495</td>\n",
       "      <td>591</td>\n",
       "      <td>525</td>\n",
       "      <td>445</td>\n",
       "      <td>...</td>\n",
       "      <td>395</td>\n",
       "      <td>469</td>\n",
       "      <td>384</td>\n",
       "      <td>445</td>\n",
       "      <td>486</td>\n",
       "      <td>394</td>\n",
       "      <td>470</td>\n",
       "      <td>489</td>\n",
       "      <td>384</td>\n",
       "      <td>1</td>\n",
       "    </tr>\n",
       "  </tbody>\n",
       "</table>\n",
       "<p>5 rows × 65537 columns</p>\n",
       "</div>"
      ],
      "text/plain": [
       "     0    1    2    3    4    5    6    7    8    9  ...  65527  65528  65529  \\\n",
       "0  164  142  129  170  134  131  171  129  140  189  ...    160    146    134   \n",
       "1  305  309  315  284  282  291  277  287  300  283  ...    238    241    257   \n",
       "2  340  427  375  375  409  341  369  423  369  338  ...    285    329    294   \n",
       "3  535  556  555  553  589  595  595  601  617  617  ...    387    435    422   \n",
       "4  435  590  527  487  623  556  495  591  525  445  ...    395    469    384   \n",
       "\n",
       "   65530  65531  65532  65533  65534  65535  output  \n",
       "0    153    140    141    142    134    151       1  \n",
       "1    245    249    278    255    252    283       1  \n",
       "2    308    330    291    295    358    318       1  \n",
       "3    420    418    415    444    399    387       1  \n",
       "4    445    486    394    470    489    384       1  \n",
       "\n",
       "[5 rows x 65537 columns]"
      ]
     },
     "metadata": {},
     "output_type": "display_data"
    }
   ],
   "source": [
    "print('df_neg head :')\n",
    "display(df_neg.head())\n",
    "\n",
    "print('df_pos head :')\n",
    "display(df_pos.head())"
   ]
  },
  {
   "cell_type": "markdown",
   "execution_count": null,
   "metadata": {},
   "source": [
    "Everything Alright"
   ]
  },
  {
   "cell_type": "code",
   "execution_count": 7,
   "metadata": {},
   "outputs": [],
   "source": [
    "# Lets save them in pkl format for next.\n",
    "\n",
    "df_neg.to_pickle('df_neg.pkl')\n",
    "df_pos.to_pickle('df_pos.pkl')"
   ]
  },
  {
   "cell_type": "code",
   "execution_count": 8,
   "metadata": {},
   "outputs": [
    {
     "data": {
      "text/plain": [
       "20"
      ]
     },
     "execution_count": 8,
     "metadata": {},
     "output_type": "execute_result"
    }
   ],
   "source": [
    "# concatenate all, free up space.\n",
    "\n",
    "df_train = pd.concat([df_pos, df_neg], ignore_index = True).astype('int16')\n",
    "del df_pos, df_neg\n",
    "gc.collect()"
   ]
  },
  {
   "cell_type": "markdown",
   "execution_count": null,
   "metadata": {},
   "source": [
    "Now we have 24,000 images we can do what we want with =)"
   ]
  },
  {
   "cell_type": "markdown",
   "execution_count": null,
   "metadata": {},
   "source": [
    "If you have suggestions to improve the importation of images I am interested.\n",
    "\n",
    "If it helped you make an UpVote it will be chic on your part =)"
   ]
  }
 ],
 "metadata": {
  "kernelspec": {
   "display_name": "Python 3",
   "language": "python",
   "name": "python3"
  },
  "language_info": {
   "codemirror_mode": {
    "name": "ipython",
    "version": 3
   },
   "file_extension": ".py",
   "mimetype": "text/x-python",
   "name": "python",
   "nbconvert_exporter": "python",
   "pygments_lexer": "ipython3",
   "version": "3.7.6"
  }
 },
 "nbformat": 4,
 "nbformat_minor": 4
}
